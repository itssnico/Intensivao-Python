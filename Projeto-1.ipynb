{
 "cells": [
  {
   "cell_type": "code",
   "execution_count": 2,
   "id": "2bf722d9",
   "metadata": {},
   "outputs": [],
   "source": [
    "import pyautogui as pa\n",
    "import pyperclip as pc\n",
    "import time\n",
    "# Passo 1 -> Entrar no sistema da empresa \n",
    "pa.press('win')\n",
    "time.sleep(1)\n",
    "pa.write('opera')\n",
    "time.sleep(1)\n",
    "pa.press('enter')\n",
    "time.sleep(2)\n",
    "pc.copy('https://drive.google.com/drive/folders/149xknr9JvrlEnhNWO49zPcw0PW5icxga?usp=sharing')\n",
    "pa.hotkey('ctrl', 'v')\n",
    "pa.press('enter')\n",
    "time.sleep(4)\n",
    "\n",
    "# Passo 2 -> Navegar até o local do relatório\n",
    "pa.click(x=480, y=316, clicks=2)\n",
    "time.sleep(2)\n",
    "# Passo 3 -> Exportar o relatório \n",
    "pa.click(x=477, y=536)\n",
    "time.sleep(1.5)\n",
    "pa.click(x=1666, y=190)\n",
    "time.sleep(2)\n",
    "pa.click(x=1333, y=699)\n",
    "time.sleep(3)\n"
   ]
  },
  {
   "cell_type": "code",
   "execution_count": 3,
   "id": "99dfbcf9",
   "metadata": {},
   "outputs": [
    {
     "name": "stdout",
     "output_type": "stream",
     "text": [
      "2917311 - 15227\n"
     ]
    }
   ],
   "source": [
    "# Passo 4 -> Calcular os indicadores \n",
    "import pandas as pd\n",
    "\n",
    "tabela = pd.read_excel(r\"C:\\Users\\nicol\\Downloads\\Vendas - Dez.xlsx\")\n",
    "faturamento = tabela[\"Valor Final\"].sum()\n",
    "quantidade = tabela[\"Quantidade\"].sum()\n",
    "print(faturamento, \"-\", quantidade)"
   ]
  },
  {
   "cell_type": "code",
   "execution_count": 4,
   "id": "b874c9b2",
   "metadata": {},
   "outputs": [],
   "source": [
    "# Passo 5 -> Enviar um e-mail para diretoria\n",
    "pa.hotkey('ctrl', 't')\n",
    "time.sleep(3)\n",
    "pc.copy('mail.google.com')\n",
    "pa.hotkey('ctrl', 'v')\n",
    "pa.press('enter')\n",
    "time.sleep(3)\n",
    "pa.click(x=179, y=227)\n",
    "time.sleep(2)\n",
    "pc.copy('nicolasnikki034@gmail.com')\n",
    "pa.hotkey('ctrl', 'v')\n",
    "pa.press('tab')# Seleciona o email\n",
    "pc.copy('Relatório de Vendas')\n",
    "pa.hotkey('ctrl', 'v')\n",
    "pa.press('tab')\n",
    "texto = f'''\n",
    "Prezados, bom dia\n",
    "\n",
    "O faturamento  de ontem foi de: R${faturamento:,.2f}\n",
    "A quantidade vendida foi de: {quantidade:,}\n",
    "\n",
    "Abs\n",
    "Nícolas\n",
    "'''\n",
    "pc.copy(texto)\n",
    "pa.hotkey('ctrl', 'v')\n",
    "\n",
    "pa.hotkey('ctrl', 'enter')"
   ]
  },
  {
   "cell_type": "code",
   "execution_count": 5,
   "id": "2fc64148",
   "metadata": {},
   "outputs": [
    {
     "data": {
      "text/plain": [
       "Point(x=529, y=22)"
      ]
     },
     "execution_count": 5,
     "metadata": {},
     "output_type": "execute_result"
    }
   ],
   "source": [
    "time.sleep(4)\n",
    "pa.position()"
   ]
  },
  {
   "cell_type": "code",
   "execution_count": null,
   "id": "c8799510",
   "metadata": {},
   "outputs": [],
   "source": []
  }
 ],
 "metadata": {
  "kernelspec": {
   "display_name": "Python 3 (ipykernel)",
   "language": "python",
   "name": "python3"
  },
  "language_info": {
   "codemirror_mode": {
    "name": "ipython",
    "version": 3
   },
   "file_extension": ".py",
   "mimetype": "text/x-python",
   "name": "python",
   "nbconvert_exporter": "python",
   "pygments_lexer": "ipython3",
   "version": "3.9.13"
  }
 },
 "nbformat": 4,
 "nbformat_minor": 5
}
